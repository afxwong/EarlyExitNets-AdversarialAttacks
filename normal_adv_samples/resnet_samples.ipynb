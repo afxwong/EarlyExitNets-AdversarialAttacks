{
 "cells": [
  {
   "cell_type": "code",
   "execution_count": 2,
   "metadata": {},
   "outputs": [],
   "source": [
    "import tensorflow as tf\n",
    "from tensorflow.keras.optimizers import Adam\n",
    "from tensorflow.keras.applications import ResNet50\n",
    "from tensorflow.keras.losses import SparseCategoricalCrossentropy\n",
    "from tensorflow.keras.applications.resnet50 import decode_predictions\n",
    "from tensorflow.keras.applications.resnet50 import preprocess_input\n",
    "import tensorflow as tf\n",
    "import numpy as np\n",
    "import cv2"
   ]
  },
  {
   "cell_type": "code",
   "execution_count": 3,
   "metadata": {},
   "outputs": [
    {
     "name": "stdout",
     "output_type": "stream",
     "text": [
      "WARNING:tensorflow:From C:\\Users\\afxwo\\AppData\\Local\\Temp\\ipykernel_80036\\1897261821.py:1: is_gpu_available (from tensorflow.python.framework.test_util) is deprecated and will be removed in a future version.\n",
      "Instructions for updating:\n",
      "Use `tf.config.list_physical_devices('GPU')` instead.\n",
      "True\n",
      "[PhysicalDevice(name='/physical_device:GPU:0', device_type='GPU')]\n"
     ]
    }
   ],
   "source": [
    "print(tf.test.is_gpu_available())\n",
    "print(tf.config.list_physical_devices('GPU'))"
   ]
  },
  {
   "cell_type": "code",
   "execution_count": 4,
   "metadata": {},
   "outputs": [],
   "source": [
    "EPS = .001\n",
    "LR = 0.1\n",
    "sccLoss = SparseCategoricalCrossentropy()\n",
    "optimizer = Adam(learning_rate=LR)"
   ]
  },
  {
   "cell_type": "code",
   "execution_count": 28,
   "metadata": {},
   "outputs": [],
   "source": [
    "def preprocess_image(image):\n",
    "\t# image = cv2.cvtColor(image, cv2.COLOR_BGR2RGB)\n",
    "\timage = cv2.resize(image, (224, 224))\n",
    "\timage = np.expand_dims(image, axis=0)\n",
    "\treturn image"
   ]
  },
  {
   "cell_type": "code",
   "execution_count": 4,
   "metadata": {},
   "outputs": [],
   "source": [
    "def clip_eps(tensor, eps):\n",
    "\treturn tf.clip_by_value(tensor, clip_value_min=-eps,\n",
    "\t\tclip_value_max=eps)"
   ]
  },
  {
   "cell_type": "code",
   "execution_count": 5,
   "metadata": {},
   "outputs": [],
   "source": [
    "def generate_adversaries(model, baseImage, delta, classIdx, steps=50):\n",
    "\tfor step in range(0, steps):\n",
    "\t\t# track gradients\n",
    "\t\twith tf.GradientTape() as tape:\n",
    "\t\t\t# track perturbation vector for gradient updates\n",
    "\t\t\ttape.watch(delta)\n",
    "\t\t\t# add our perturbation vector to the base image \n",
    "\t\t\tadversary = preprocess_input(baseImage + delta)\n",
    "\t\t\t# run perturbated image through model and calculate the loss with respect to the class index\n",
    "\t\t\tpredictions = model(adversary, training=False)\n",
    "\t\t\tloss = -sccLoss(tf.convert_to_tensor([classIdx]),\n",
    "\t\t\t\tpredictions)\n",
    "\t\t\t# log the loss\n",
    "\t\t\tif step % 5 == 0:\n",
    "\t\t\t\tprint(\"step: {}, loss: {}...\".format(step,\n",
    "\t\t\t\t\tloss.numpy()))\n",
    "\t\t# calculate the gradients of loss with respect to the\n",
    "\t\t# perturbation vector\n",
    "\t\tgradients = tape.gradient(loss, delta)\n",
    "\t\t# update the weights, clip the perturbation vector, and\n",
    "\t\t# update its value\n",
    "\t\toptimizer.apply_gradients([(gradients, delta)])\n",
    "\t\tdelta.assign_add(clip_eps(delta, eps=EPS))\n",
    "\t# return the perturbation vector\n",
    "\treturn delta"
   ]
  },
  {
   "cell_type": "code",
   "execution_count": 31,
   "metadata": {},
   "outputs": [
    {
     "name": "stdout",
     "output_type": "stream",
     "text": [
      "[INFO] generating perturbation...\n",
      "step: 0, loss: -2.2798099517822266...\n",
      "step: 5, loss: -10.055440902709961...\n",
      "step: 10, loss: -19.210041046142578...\n",
      "step: 15, loss: -28.864030838012695...\n",
      "step: 20, loss: -37.69005584716797...\n",
      "step: 25, loss: -46.55704879760742...\n",
      "step: 30, loss: -55.62173843383789...\n",
      "step: 35, loss: -65.60511016845703...\n",
      "step: 40, loss: -75.1745834350586...\n",
      "step: 45, loss: -84.1983871459961...\n",
      "[INFO] creating adversarial example...\n",
      "[INFO] running inference on the adversarial example...\n",
      "1/1 [==============================] - 1s 582ms/step\n",
      "[('n02091831', 'Saluki', 1.0), ('n02091134', 'whippet', 4.0236542e-12), ('n02090622', 'borzoi', 6.5043016e-14)]\n",
      "[INFO] label: Saluki confidence: 100.00%\n"
     ]
    }
   ],
   "source": [
    "image_path = tf.keras.utils.get_file('YellowLabradorLooking_new.jpg', 'https://storage.googleapis.com/download.tensorflow.org/example_images/YellowLabradorLooking_new.jpg')\n",
    "# image_raw = tf.io.read_file(image_path)\n",
    "# image = tf.image.decode_image(image_raw)\n",
    "image = cv2.imread(image_path)\n",
    "image = preprocess_image(image)\n",
    "\n",
    "model = ResNet50(weights=\"imagenet\")\n",
    "\n",
    "baseImage = tf.constant(image, dtype=tf.float32)\n",
    "cv2.imwrite(\"temppics\\\\input.png\", baseImage.numpy().squeeze())\n",
    "\n",
    "delta = tf.Variable(tf.zeros_like(baseImage), trainable=True)\n",
    "print(\"[INFO] generating perturbation...\")\n",
    "deltaUpdated = generate_adversaries(model, baseImage, delta, 208)\n",
    "\n",
    "print(\"[INFO] creating adversarial example...\")\n",
    "cv2.imwrite(\"temppics\\\\change.png\", (deltaUpdated * 50).numpy().squeeze())\n",
    "adverImage = (baseImage + deltaUpdated).numpy().squeeze()\n",
    "# adverImage = np.clip(adverImage, 0, 255).astype(\"uint8\")\n",
    "# adverImage = cv2.cvtColor(adverImage, cv2.COLOR_RGB2BGR)\n",
    "cv2.imwrite(\"temppics\\\\output.png\", adverImage)\n",
    "\n",
    "# run inference with this adversarial example\n",
    "print(\"[INFO] running inference on the adversarial example...\")\n",
    "preprocessedImage = preprocess_input(baseImage + deltaUpdated)\n",
    "predictions = model.predict(preprocessedImage)\n",
    "predictions = decode_predictions(predictions, top=3)[0]\n",
    "print(predictions)\n",
    "label = predictions[0][1]\n",
    "confidence = predictions[0][2] * 100\n",
    "print(\"[INFO] label: {} confidence: {:.2f}%\".format(label,\n",
    "\tconfidence))"
   ]
  }
 ],
 "metadata": {
  "kernelspec": {
   "display_name": "tensflow",
   "language": "python",
   "name": "python3"
  },
  "language_info": {
   "codemirror_mode": {
    "name": "ipython",
    "version": 3
   },
   "file_extension": ".py",
   "mimetype": "text/x-python",
   "name": "python",
   "nbconvert_exporter": "python",
   "pygments_lexer": "ipython3",
   "version": "3.10.13"
  }
 },
 "nbformat": 4,
 "nbformat_minor": 2
}
